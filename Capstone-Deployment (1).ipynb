{
 "cells": [
  {
   "cell_type": "code",
   "execution_count": 1,
   "id": "a1490fc1",
   "metadata": {},
   "outputs": [],
   "source": [
    "import os \n",
    "from flask import Flask, request, redirect, url_for, render_template\n",
    "from werkzeug.utils import secure_filename\n",
    "\n",
    "\n",
    "import cv2\n",
    "from keras.models import load_model \n",
    "from keras.backend import set_session\n",
    "from skimage.transform import resize \n",
    "import matplotlib.pyplot as plt \n",
    "import tensorflow as tf \n",
    "import numpy as np\n",
    "import pydicom as dicom\n",
    "\n",
    "\n",
    "from keras.models import Sequential\n",
    "from keras.layers import Dense, Conv2D , MaxPooling2D , Flatten , Dropout , BatchNormalization\n",
    "from keras.callbacks import ReduceLROnPlateau"
   ]
  },
  {
   "cell_type": "code",
   "execution_count": 2,
   "id": "ad8977b0",
   "metadata": {},
   "outputs": [],
   "source": [
    "def create_model():\n",
    "    # Creating a model taking input as 256*256 image\n",
    "   \n",
    "    model = Sequential()\n",
    "    model.add(Conv2D(256, (10, 10), activation='relu', input_shape=(256,256,1)))\n",
    "    model.add(MaxPooling2D((10, 10)))\n",
    "    model.add(Conv2D(256, (10, 10), activation='relu'))\n",
    "    model.add(Flatten())\n",
    "    model.add(Dense(64, activation='relu'))\n",
    "    model.add(Dense(1,activation = 'sigmoid'))\n",
    "    model.compile(loss=tf.keras.losses.BinaryCrossentropy(), optimizer = 'adam', metrics = 'accuracy')\n",
    "    return model"
   ]
  },
  {
   "cell_type": "code",
   "execution_count": null,
   "id": "d9d24673",
   "metadata": {
    "scrolled": true
   },
   "outputs": [
    {
     "name": "stdout",
     "output_type": "stream",
     "text": [
      " * Serving Flask app \"__main__\" (lazy loading)\n",
      " * Environment: production\n",
      "\u001b[31m   WARNING: This is a development server. Do not use it in a production deployment.\u001b[0m\n",
      "\u001b[2m   Use a production WSGI server instead.\u001b[0m\n",
      " * Debug mode: off\n"
     ]
    },
    {
     "name": "stderr",
     "output_type": "stream",
     "text": [
      " * Running on all addresses.\n",
      "   WARNING: This is a development server. Do not use it in a production deployment.\n",
      " * Running on http://10.205.51.105:1000/ (Press CTRL+C to quit)\n",
      "10.205.51.105 - - [16/Sep/2022 17:35:26] \"GET / HTTP/1.1\" 200 -\n",
      "10.205.51.105 - - [16/Sep/2022 17:35:52] \"POST / HTTP/1.1\" 302 -\n"
     ]
    },
    {
     "name": "stdout",
     "output_type": "stream",
     "text": [
      "1/1 [==============================] - 0s 233ms/step\n"
     ]
    },
    {
     "name": "stderr",
     "output_type": "stream",
     "text": [
      "10.205.51.105 - - [16/Sep/2022 17:35:52] \"GET /prediction HTTP/1.1\" 200 -\n"
     ]
    }
   ],
   "source": [
    "\n",
    "model = create_model()\n",
    "model.load_weights('simple_model.h5')\n",
    "\n",
    "app = Flask(__name__)\n",
    "\n",
    "@app.route('/', methods=['GET', 'POST'])\n",
    "def main_page():\n",
    "    if request.method == 'POST':\n",
    "        file = request.files['file']\n",
    "        file.save('temp.dcm')\n",
    "        return redirect(url_for('prediction'))\n",
    "    return render_template('index.html')\n",
    "\n",
    "@app.route('/prediction')\n",
    "def prediction():\n",
    "    \n",
    "\n",
    "    my_image = dicom.dcmread('temp.dcm')\n",
    "    \n",
    "    \n",
    "    cv2.imwrite('tempfile.png',my_image.pixel_array)\n",
    "    my_image = cv2.imread('tempfile.png')\n",
    "    my_image_re = np.array(cv2.resize(my_image,dsize = (256,256))).reshape(-1,256,256,1)\n",
    "    \n",
    "    probabilities = model.predict(my_image_re)[0]\n",
    "    if probabilities[0] <= 0.3:\n",
    "        predictions = {\n",
    "            \"is_pnemonic\":'Normal',\n",
    "            \"probability\":probabilities[0],\n",
    "            \"result\":\"\"\n",
    "        }\n",
    "    \n",
    "    elif probabilities[0] <= 0.6:\n",
    "        predictions = {\n",
    "            \"is_pnemonic\":'Normal',\n",
    "            \"probability\":probabilities[0],\n",
    "            \"result\":\"\"\n",
    "        }\n",
    "    \n",
    "    else:\n",
    "        predictions = {\n",
    "            \"is_pnemonic\":'Pneumonic',\n",
    "            \"probability\":probabilities[0],\n",
    "            \"result\" : \"\"\n",
    "        }\n",
    "   \n",
    "    return render_template('predict.html', predictions=predictions)\n",
    "\n",
    "app.run(host='0.0.0.0', port=1000)"
   ]
  },
  {
   "cell_type": "code",
   "execution_count": null,
   "id": "7eee9d3d",
   "metadata": {},
   "outputs": [],
   "source": []
  },
  {
   "cell_type": "code",
   "execution_count": null,
   "id": "51525867",
   "metadata": {},
   "outputs": [],
   "source": []
  },
  {
   "cell_type": "code",
   "execution_count": null,
   "id": "d4f39c6d",
   "metadata": {},
   "outputs": [],
   "source": []
  }
 ],
 "metadata": {
  "kernelspec": {
   "display_name": "Python 3 (ipykernel)",
   "language": "python",
   "name": "python3"
  },
  "language_info": {
   "codemirror_mode": {
    "name": "ipython",
    "version": 3
   },
   "file_extension": ".py",
   "mimetype": "text/x-python",
   "name": "python",
   "nbconvert_exporter": "python",
   "pygments_lexer": "ipython3",
   "version": "3.9.12"
  }
 },
 "nbformat": 4,
 "nbformat_minor": 5
}
